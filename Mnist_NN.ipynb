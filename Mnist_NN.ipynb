{
  "nbformat": 4,
  "nbformat_minor": 0,
  "metadata": {
    "colab": {
      "name": "Mnist_NN.ipynb",
      "provenance": [],
      "collapsed_sections": [],
      "authorship_tag": "ABX9TyNPCNgAMNHBGAQWZ6zTxExj",
      "include_colab_link": true
    },
    "kernelspec": {
      "name": "python3",
      "display_name": "Python 3"
    }
  },
  "cells": [
    {
      "cell_type": "markdown",
      "metadata": {
        "id": "view-in-github",
        "colab_type": "text"
      },
      "source": [
        "<a href=\"https://colab.research.google.com/github/mvdheram/DeepLearning/blob/master/Mnist_NN.ipynb\" target=\"_parent\"><img src=\"https://colab.research.google.com/assets/colab-badge.svg\" alt=\"Open In Colab\"/></a>"
      ]
    },
    {
      "cell_type": "code",
      "metadata": {
        "id": "6ZS6JV-fs65d",
        "colab_type": "code",
        "colab": {}
      },
      "source": [
        "import tensorflow as tf\n",
        "import numpy as np\n",
        "import pandas as pd\n",
        "import matplotlib.pyplot as plt"
      ],
      "execution_count": null,
      "outputs": []
    },
    {
      "cell_type": "code",
      "metadata": {
        "id": "6vcKK2Z85rSZ",
        "colab_type": "code",
        "colab": {}
      },
      "source": [
        "(x_train, y_train), (x_test, y_test) = tf.keras.datasets.mnist.load_data()\n",
        "x_train = x_train.astype('float32')\n",
        "x_test = x_test.astype('float32')\n",
        "\n",
        "# Normalizing the RGB codes by dividing it to the max RGB value.\n",
        "x_train /= 255\n",
        "x_test /= 255"
      ],
      "execution_count": null,
      "outputs": []
    },
    {
      "cell_type": "code",
      "metadata": {
        "id": "ifG_HLrQ_g6q",
        "colab_type": "code",
        "colab": {}
      },
      "source": [
        "num_classes = 10\n",
        "y_train = tf.keras.utils.to_categorical(y_train, num_classes)\n",
        "y_test = tf.keras.utils.to_categorical(y_test, num_classes)"
      ],
      "execution_count": null,
      "outputs": []
    },
    {
      "cell_type": "code",
      "metadata": {
        "id": "Ej8vCIxN0ebu",
        "colab_type": "code",
        "colab": {}
      },
      "source": [
        "image_vector_size = 28*28\n",
        "x_train = x_train.reshape(x_train.shape[0], image_vector_size)\n",
        "x_test = x_test.reshape(x_test.shape[0], image_vector_size)"
      ],
      "execution_count": null,
      "outputs": []
    },
    {
      "cell_type": "code",
      "metadata": {
        "id": "ieSzUMtdzbSG",
        "colab_type": "code",
        "colab": {
          "base_uri": "https://localhost:8080/",
          "height": 84
        },
        "outputId": "3e91b93b-bb8b-4786-eea6-e6ca1106fca2"
      },
      "source": [
        "print('x_train shape:', x_train.shape)\n",
        "print('x_test shape:', x_test.shape)\n",
        "print('y_train shape:', y_train.shape)\n",
        "print('y_test shape:', y_test.shape)"
      ],
      "execution_count": null,
      "outputs": [
        {
          "output_type": "stream",
          "text": [
            "x_train shape: (60000, 784)\n",
            "x_test shape: (10000, 784)\n",
            "y_train shape: (60000, 10)\n",
            "y_test shape: (10000, 10)\n"
          ],
          "name": "stdout"
        }
      ]
    },
    {
      "cell_type": "code",
      "metadata": {
        "id": "KuAN12Uz2a1S",
        "colab_type": "code",
        "colab": {}
      },
      "source": [
        "ann = tf.keras.models.Sequential()"
      ],
      "execution_count": null,
      "outputs": []
    },
    {
      "cell_type": "code",
      "metadata": {
        "id": "DOxnLbPL2sc8",
        "colab_type": "code",
        "colab": {}
      },
      "source": [
        "ann.add(tf.keras.layers.Dense(units=6, activation='sigmoid',input_shape=(784,)))"
      ],
      "execution_count": null,
      "outputs": []
    },
    {
      "cell_type": "code",
      "metadata": {
        "id": "Wzn3ZEgZ3H5_",
        "colab_type": "code",
        "colab": {}
      },
      "source": [
        "ann.add(tf.keras.layers.Dense(units=6, activation='sigmoid'))"
      ],
      "execution_count": null,
      "outputs": []
    },
    {
      "cell_type": "code",
      "metadata": {
        "id": "NvhL6iBc3htg",
        "colab_type": "code",
        "colab": {}
      },
      "source": [
        "ann.add(tf.keras.layers.Dense(units=10, activation='softmax'))"
      ],
      "execution_count": null,
      "outputs": []
    },
    {
      "cell_type": "code",
      "metadata": {
        "id": "juaC6sXK366r",
        "colab_type": "code",
        "colab": {}
      },
      "source": [
        "ann.compile(optimizer = 'adam', loss = 'categorical_crossentropy', metrics = ['accuracy'])"
      ],
      "execution_count": null,
      "outputs": []
    },
    {
      "cell_type": "code",
      "metadata": {
        "id": "AXrXqzoI4QpD",
        "colab_type": "code",
        "colab": {
          "base_uri": "https://localhost:8080/",
          "height": 706
        },
        "outputId": "6a30d235-61bf-4fe4-8b12-ef22b1bc23b0"
      },
      "source": [
        "from tensorflow.keras.callbacks import EarlyStopping\n",
        "early_stopping = EarlyStopping(patience = 2)\n",
        "ann.fit(x_train, y_train, batch_size = 32, epochs = 100,validation_split = 0.3,callbacks= [early_stopping])"
      ],
      "execution_count": null,
      "outputs": [
        {
          "output_type": "stream",
          "text": [
            "Epoch 1/100\n",
            "1313/1313 [==============================] - 4s 3ms/step - loss: 1.8623 - accuracy: 0.3869 - val_loss: 1.4770 - val_accuracy: 0.5141\n",
            "Epoch 2/100\n",
            "1313/1313 [==============================] - 3s 3ms/step - loss: 1.2928 - accuracy: 0.6269 - val_loss: 1.1324 - val_accuracy: 0.6916\n",
            "Epoch 3/100\n",
            "1313/1313 [==============================] - 4s 3ms/step - loss: 1.0337 - accuracy: 0.7033 - val_loss: 0.9389 - val_accuracy: 0.7154\n",
            "Epoch 4/100\n",
            "1313/1313 [==============================] - 4s 3ms/step - loss: 0.8810 - accuracy: 0.7437 - val_loss: 0.8168 - val_accuracy: 0.7632\n",
            "Epoch 5/100\n",
            "1313/1313 [==============================] - 4s 3ms/step - loss: 0.7742 - accuracy: 0.7865 - val_loss: 0.7252 - val_accuracy: 0.8014\n",
            "Epoch 6/100\n",
            "1313/1313 [==============================] - 4s 3ms/step - loss: 0.6818 - accuracy: 0.8235 - val_loss: 0.6349 - val_accuracy: 0.8349\n",
            "Epoch 7/100\n",
            "1313/1313 [==============================] - 4s 3ms/step - loss: 0.6036 - accuracy: 0.8455 - val_loss: 0.5729 - val_accuracy: 0.8495\n",
            "Epoch 8/100\n",
            "1313/1313 [==============================] - 3s 2ms/step - loss: 0.5498 - accuracy: 0.8576 - val_loss: 0.5319 - val_accuracy: 0.8562\n",
            "Epoch 9/100\n",
            "1313/1313 [==============================] - 3s 2ms/step - loss: 0.5135 - accuracy: 0.8643 - val_loss: 0.5065 - val_accuracy: 0.8641\n",
            "Epoch 10/100\n",
            "1313/1313 [==============================] - 3s 3ms/step - loss: 0.4878 - accuracy: 0.8698 - val_loss: 0.4907 - val_accuracy: 0.8658\n",
            "Epoch 11/100\n",
            "1313/1313 [==============================] - 4s 3ms/step - loss: 0.4687 - accuracy: 0.8735 - val_loss: 0.4747 - val_accuracy: 0.8706\n",
            "Epoch 12/100\n",
            "1313/1313 [==============================] - 4s 3ms/step - loss: 0.4535 - accuracy: 0.8775 - val_loss: 0.4692 - val_accuracy: 0.8711\n",
            "Epoch 13/100\n",
            "1313/1313 [==============================] - 3s 3ms/step - loss: 0.4408 - accuracy: 0.8806 - val_loss: 0.4543 - val_accuracy: 0.8750\n",
            "Epoch 14/100\n",
            "1313/1313 [==============================] - 3s 3ms/step - loss: 0.4304 - accuracy: 0.8830 - val_loss: 0.4520 - val_accuracy: 0.8743\n",
            "Epoch 15/100\n",
            "1313/1313 [==============================] - 3s 3ms/step - loss: 0.4230 - accuracy: 0.8843 - val_loss: 0.4489 - val_accuracy: 0.8738\n",
            "Epoch 16/100\n",
            "1313/1313 [==============================] - 4s 3ms/step - loss: 0.4150 - accuracy: 0.8858 - val_loss: 0.4403 - val_accuracy: 0.8783\n",
            "Epoch 17/100\n",
            "1313/1313 [==============================] - 4s 3ms/step - loss: 0.4082 - accuracy: 0.8880 - val_loss: 0.4423 - val_accuracy: 0.8770\n",
            "Epoch 18/100\n",
            "1313/1313 [==============================] - 4s 3ms/step - loss: 0.4029 - accuracy: 0.8901 - val_loss: 0.4313 - val_accuracy: 0.8799\n",
            "Epoch 19/100\n",
            "1313/1313 [==============================] - 4s 3ms/step - loss: 0.3973 - accuracy: 0.8897 - val_loss: 0.4362 - val_accuracy: 0.8778\n",
            "Epoch 20/100\n",
            "1313/1313 [==============================] - 4s 3ms/step - loss: 0.3934 - accuracy: 0.8922 - val_loss: 0.4317 - val_accuracy: 0.8785\n"
          ],
          "name": "stdout"
        },
        {
          "output_type": "execute_result",
          "data": {
            "text/plain": [
              "<tensorflow.python.keras.callbacks.History at 0x7fe2cf0e84e0>"
            ]
          },
          "metadata": {
            "tags": []
          },
          "execution_count": 143
        }
      ]
    },
    {
      "cell_type": "code",
      "metadata": {
        "id": "g08TYKz0MHbD",
        "colab_type": "code",
        "colab": {}
      },
      "source": [
        ""
      ],
      "execution_count": null,
      "outputs": []
    }
  ]
}
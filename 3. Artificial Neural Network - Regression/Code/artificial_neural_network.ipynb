{
  "nbformat": 4,
  "nbformat_minor": 0,
  "metadata": {
    "colab": {
      "name": "Copy of artificial_neural_network.ipynb",
      "provenance": [],
      "collapsed_sections": [],
      "toc_visible": true
    },
    "kernelspec": {
      "name": "python3",
      "display_name": "Python 3"
    }
  },
  "cells": [
    {
      "cell_type": "markdown",
      "metadata": {
        "id": "lP6JLo1tGNBg",
        "colab_type": "text"
      },
      "source": [
        "# Artificial Neural Network"
      ]
    },
    {
      "cell_type": "markdown",
      "metadata": {
        "id": "1E0Q3aoKUCRX",
        "colab_type": "text"
      },
      "source": [
        "## Part 1 - Data Preprocessing"
      ]
    },
    {
      "cell_type": "markdown",
      "metadata": {
        "id": "gWZyYmS_UE_L",
        "colab_type": "text"
      },
      "source": [
        "### Importing the libraries"
      ]
    },
    {
      "cell_type": "code",
      "metadata": {
        "id": "LPCghjV4WEyb",
        "colab_type": "code",
        "colab": {}
      },
      "source": [
        "import pandas as pd\n",
        "import numpy as np\n",
        "import tensorflow as tf"
      ],
      "execution_count": 0,
      "outputs": []
    },
    {
      "cell_type": "code",
      "metadata": {
        "id": "ogXL1RkyeEkB",
        "colab_type": "code",
        "colab": {}
      },
      "source": [
        ""
      ],
      "execution_count": 0,
      "outputs": []
    },
    {
      "cell_type": "markdown",
      "metadata": {
        "id": "NDrfLRtPeTvw",
        "colab_type": "text"
      },
      "source": [
        "### Part-1 Data Preprocessing"
      ]
    },
    {
      "cell_type": "markdown",
      "metadata": {
        "id": "YcD-Mq6nd8cA",
        "colab_type": "text"
      },
      "source": [
        "### Importing Dataset"
      ]
    },
    {
      "cell_type": "code",
      "metadata": {
        "id": "kHsVPIWwWpOv",
        "colab_type": "code",
        "outputId": "71550190-f5b1-4d90-de99-4ed35052d160",
        "colab": {
          "base_uri": "https://localhost:8080/",
          "height": 252
        }
      },
      "source": [
        "dataset = pd.read_excel(\"/content/Folds5x2_pp.xlsx\")\n",
        "X = dataset.iloc[:, :-1].values\n",
        "y = dataset.iloc[:, -1].values"
      ],
      "execution_count": 0,
      "outputs": [
        {
          "output_type": "execute_result",
          "data": {
            "text/plain": [
              "<bound method NDFrame.head of          AT      V       AP     RH      PE\n",
              "0     14.96  41.76  1024.07  73.17  463.26\n",
              "1     25.18  62.96  1020.04  59.08  444.37\n",
              "2      5.11  39.40  1012.16  92.14  488.56\n",
              "3     20.86  57.32  1010.24  76.64  446.48\n",
              "4     10.82  37.50  1009.23  96.62  473.90\n",
              "...     ...    ...      ...    ...     ...\n",
              "9563  16.65  49.69  1014.01  91.00  460.03\n",
              "9564  13.19  39.18  1023.67  66.78  469.62\n",
              "9565  31.32  74.33  1012.92  36.48  429.57\n",
              "9566  24.48  69.45  1013.86  62.39  435.74\n",
              "9567  21.60  62.52  1017.23  67.87  453.28\n",
              "\n",
              "[9568 rows x 5 columns]>"
            ]
          },
          "metadata": {
            "tags": []
          },
          "execution_count": 17
        }
      ]
    },
    {
      "cell_type": "markdown",
      "metadata": {
        "id": "vHol938cW8zd",
        "colab_type": "text"
      },
      "source": [
        "### Splitting the dataset into the Training set and Test set"
      ]
    },
    {
      "cell_type": "code",
      "metadata": {
        "id": "Em7LhQFQeS6k",
        "colab_type": "code",
        "colab": {}
      },
      "source": [
        "from sklearn.model_selection import train_test_split\n",
        "X_train,X_test,y_train,y_test = train_test_split(X,y,test_size = 0.2, random_state=0)"
      ],
      "execution_count": 0,
      "outputs": []
    },
    {
      "cell_type": "markdown",
      "metadata": {
        "id": "-zfEzkRVXIwF",
        "colab_type": "text"
      },
      "source": [
        "## Part 2 - Building the ANN"
      ]
    },
    {
      "cell_type": "markdown",
      "metadata": {
        "id": "KvdeScabXtlB",
        "colab_type": "text"
      },
      "source": [
        "### Initializing the ANN"
      ]
    },
    {
      "cell_type": "code",
      "metadata": {
        "id": "6WUQT-Z3gAOc",
        "colab_type": "code",
        "colab": {}
      },
      "source": [
        "ann = tf.keras.models.Sequential()"
      ],
      "execution_count": 0,
      "outputs": []
    },
    {
      "cell_type": "markdown",
      "metadata": {
        "id": "rP6urV6SX7kS",
        "colab_type": "text"
      },
      "source": [
        "### Adding the input layer and the first hidden layer"
      ]
    },
    {
      "cell_type": "code",
      "metadata": {
        "id": "FF0PDvlPguRs",
        "colab_type": "code",
        "colab": {}
      },
      "source": [
        "ann.add(tf.keras.layers.Dense(units=6,activation='relu'))"
      ],
      "execution_count": 0,
      "outputs": []
    },
    {
      "cell_type": "markdown",
      "metadata": {
        "id": "BELWAc_8YJze",
        "colab_type": "text"
      },
      "source": [
        "### Adding the second hidden layer"
      ]
    },
    {
      "cell_type": "code",
      "metadata": {
        "id": "eu2DeWaijEU_",
        "colab_type": "code",
        "colab": {}
      },
      "source": [
        "ann.add(tf.keras.layers.Dense(units=6,activation='relu'))"
      ],
      "execution_count": 0,
      "outputs": []
    },
    {
      "cell_type": "markdown",
      "metadata": {
        "id": "OyNEe6RXYcU4",
        "colab_type": "text"
      },
      "source": [
        "### Adding the output layer"
      ]
    },
    {
      "cell_type": "code",
      "metadata": {
        "id": "xtKRC6FrjM7F",
        "colab_type": "code",
        "colab": {}
      },
      "source": [
        "ann.add(tf.keras.layers.Dense(units=1))"
      ],
      "execution_count": 0,
      "outputs": []
    },
    {
      "cell_type": "markdown",
      "metadata": {
        "id": "JT4u2S1_Y4WG",
        "colab_type": "text"
      },
      "source": [
        "## Part 3 - Training the ANN"
      ]
    },
    {
      "cell_type": "markdown",
      "metadata": {
        "id": "8GWlJChhY_ZI",
        "colab_type": "text"
      },
      "source": [
        "### Compiling the ANN"
      ]
    },
    {
      "cell_type": "markdown",
      "metadata": {
        "id": "pYgeI6vjnvG5",
        "colab_type": "text"
      },
      "source": [
        "ANN Learning (Minimizing loss function):\n",
        "\n",
        "*   Batch gradient descent, B=|x|\n",
        "*   Online stochastic gradient descent: B=1\n",
        "*   Mini-batch stochastic gradient descent: B>1 but  B<|x\n",
        "\n",
        "\n",
        "'adam' -  stochastic gradient-based optimization, 'mean_squared_error' -  Loss fuction for Regression "
      ]
    },
    {
      "cell_type": "code",
      "metadata": {
        "id": "3JkOutw_kPQi",
        "colab_type": "code",
        "colab": {}
      },
      "source": [
        "ann.compile(optimizer='adam',loss='mean_squared_error')"
      ],
      "execution_count": 0,
      "outputs": []
    },
    {
      "cell_type": "markdown",
      "metadata": {
        "id": "0QR_G5u7ZLSM",
        "colab_type": "text"
      },
      "source": [
        "### Training the ANN on the Training set"
      ]
    },
    {
      "cell_type": "code",
      "metadata": {
        "id": "6-URwUkmnH6Z",
        "colab_type": "code",
        "outputId": "e29cf677-3bb4-43ab-cd2b-f4bbcb025e6d",
        "colab": {
          "base_uri": "https://localhost:8080/",
          "height": 1000
        }
      },
      "source": [
        "ann.fit(X_train,y_train,batch_size= 32,epochs=100)"
      ],
      "execution_count": 0,
      "outputs": [
        {
          "output_type": "stream",
          "text": [
            "Epoch 1/100\n",
            "240/240 [==============================] - 0s 1ms/step - loss: 27.2729\n",
            "Epoch 2/100\n",
            "240/240 [==============================] - 0s 1ms/step - loss: 26.7905\n",
            "Epoch 3/100\n",
            "240/240 [==============================] - 0s 1ms/step - loss: 26.9669\n",
            "Epoch 4/100\n",
            "240/240 [==============================] - 0s 1ms/step - loss: 26.9155\n",
            "Epoch 5/100\n",
            "240/240 [==============================] - 0s 1ms/step - loss: 26.7058\n",
            "Epoch 6/100\n",
            "240/240 [==============================] - 0s 1ms/step - loss: 27.5612\n",
            "Epoch 7/100\n",
            "240/240 [==============================] - 0s 1ms/step - loss: 26.9609\n",
            "Epoch 8/100\n",
            "240/240 [==============================] - 0s 1ms/step - loss: 27.4727\n",
            "Epoch 9/100\n",
            "240/240 [==============================] - 0s 1ms/step - loss: 27.0314\n",
            "Epoch 10/100\n",
            "240/240 [==============================] - 0s 1ms/step - loss: 26.7871\n",
            "Epoch 11/100\n",
            "240/240 [==============================] - 0s 1ms/step - loss: 27.0072\n",
            "Epoch 12/100\n",
            "240/240 [==============================] - 0s 1ms/step - loss: 27.9957\n",
            "Epoch 13/100\n",
            "240/240 [==============================] - 0s 1ms/step - loss: 27.9208\n",
            "Epoch 14/100\n",
            "240/240 [==============================] - 0s 1ms/step - loss: 26.4824\n",
            "Epoch 15/100\n",
            "240/240 [==============================] - 0s 1ms/step - loss: 26.9651\n",
            "Epoch 16/100\n",
            "240/240 [==============================] - 0s 1ms/step - loss: 26.8969\n",
            "Epoch 17/100\n",
            "240/240 [==============================] - 0s 1ms/step - loss: 26.9887\n",
            "Epoch 18/100\n",
            "240/240 [==============================] - 0s 1ms/step - loss: 27.0616\n",
            "Epoch 19/100\n",
            "240/240 [==============================] - 0s 1ms/step - loss: 26.6350\n",
            "Epoch 20/100\n",
            "240/240 [==============================] - 0s 1ms/step - loss: 26.6939\n",
            "Epoch 21/100\n",
            "240/240 [==============================] - 0s 1ms/step - loss: 27.3042\n",
            "Epoch 22/100\n",
            "240/240 [==============================] - 0s 1ms/step - loss: 26.7306\n",
            "Epoch 23/100\n",
            "240/240 [==============================] - 0s 1ms/step - loss: 27.1538\n",
            "Epoch 24/100\n",
            "240/240 [==============================] - 0s 1ms/step - loss: 26.9923\n",
            "Epoch 25/100\n",
            "240/240 [==============================] - 0s 1ms/step - loss: 26.9033\n",
            "Epoch 26/100\n",
            "240/240 [==============================] - 0s 1ms/step - loss: 27.2327\n",
            "Epoch 27/100\n",
            "240/240 [==============================] - 0s 1ms/step - loss: 26.8377\n",
            "Epoch 28/100\n",
            "240/240 [==============================] - 0s 1ms/step - loss: 26.9057\n",
            "Epoch 29/100\n",
            "240/240 [==============================] - 0s 1ms/step - loss: 27.0214\n",
            "Epoch 30/100\n",
            "240/240 [==============================] - 0s 1ms/step - loss: 27.1208\n",
            "Epoch 31/100\n",
            "240/240 [==============================] - 0s 1ms/step - loss: 26.6475\n",
            "Epoch 32/100\n",
            "240/240 [==============================] - 0s 1ms/step - loss: 26.8078\n",
            "Epoch 33/100\n",
            "240/240 [==============================] - 0s 1ms/step - loss: 26.3728\n",
            "Epoch 34/100\n",
            "240/240 [==============================] - 0s 1ms/step - loss: 26.4869\n",
            "Epoch 35/100\n",
            "240/240 [==============================] - 0s 1ms/step - loss: 27.1303\n",
            "Epoch 36/100\n",
            "240/240 [==============================] - 0s 1ms/step - loss: 27.2214\n",
            "Epoch 37/100\n",
            "240/240 [==============================] - 0s 1ms/step - loss: 27.1229\n",
            "Epoch 38/100\n",
            "240/240 [==============================] - 0s 1ms/step - loss: 26.8702\n",
            "Epoch 39/100\n",
            "240/240 [==============================] - 0s 1ms/step - loss: 27.5332\n",
            "Epoch 40/100\n",
            "240/240 [==============================] - 0s 1ms/step - loss: 26.7932\n",
            "Epoch 41/100\n",
            "240/240 [==============================] - 0s 1ms/step - loss: 27.7796\n",
            "Epoch 42/100\n",
            "240/240 [==============================] - 0s 1ms/step - loss: 26.9266\n",
            "Epoch 43/100\n",
            "240/240 [==============================] - 0s 1ms/step - loss: 26.9109\n",
            "Epoch 44/100\n",
            "240/240 [==============================] - 0s 1ms/step - loss: 26.7229\n",
            "Epoch 45/100\n",
            "240/240 [==============================] - 0s 1ms/step - loss: 26.3059\n",
            "Epoch 46/100\n",
            "240/240 [==============================] - 0s 1ms/step - loss: 26.9517\n",
            "Epoch 47/100\n",
            "240/240 [==============================] - 0s 1ms/step - loss: 26.7183\n",
            "Epoch 48/100\n",
            "240/240 [==============================] - 0s 1ms/step - loss: 26.7972\n",
            "Epoch 49/100\n",
            "240/240 [==============================] - 0s 1ms/step - loss: 26.8849\n",
            "Epoch 50/100\n",
            "240/240 [==============================] - 0s 1ms/step - loss: 27.0862\n",
            "Epoch 51/100\n",
            "240/240 [==============================] - 0s 1ms/step - loss: 27.1944\n",
            "Epoch 52/100\n",
            "240/240 [==============================] - 0s 1ms/step - loss: 27.0674\n",
            "Epoch 53/100\n",
            "240/240 [==============================] - 0s 1ms/step - loss: 26.9341\n",
            "Epoch 54/100\n",
            "240/240 [==============================] - 0s 1ms/step - loss: 26.6441\n",
            "Epoch 55/100\n",
            "240/240 [==============================] - 0s 1ms/step - loss: 26.5193\n",
            "Epoch 56/100\n",
            "240/240 [==============================] - 0s 1ms/step - loss: 27.2482\n",
            "Epoch 57/100\n",
            "240/240 [==============================] - 0s 1ms/step - loss: 26.3568\n",
            "Epoch 58/100\n",
            "240/240 [==============================] - 0s 1ms/step - loss: 26.8916\n",
            "Epoch 59/100\n",
            "240/240 [==============================] - 0s 1ms/step - loss: 26.6988\n",
            "Epoch 60/100\n",
            "240/240 [==============================] - 0s 1ms/step - loss: 26.2891\n",
            "Epoch 61/100\n",
            "240/240 [==============================] - 0s 1ms/step - loss: 26.6678\n",
            "Epoch 62/100\n",
            "240/240 [==============================] - 0s 1ms/step - loss: 27.2285\n",
            "Epoch 63/100\n",
            "240/240 [==============================] - 0s 1ms/step - loss: 27.7136\n",
            "Epoch 64/100\n",
            "240/240 [==============================] - 0s 1ms/step - loss: 26.6016\n",
            "Epoch 65/100\n",
            "240/240 [==============================] - 0s 1ms/step - loss: 27.6412\n",
            "Epoch 66/100\n",
            "240/240 [==============================] - 0s 1ms/step - loss: 26.4413\n",
            "Epoch 67/100\n",
            "240/240 [==============================] - 0s 1ms/step - loss: 26.4805\n",
            "Epoch 68/100\n",
            "240/240 [==============================] - 0s 1ms/step - loss: 27.2986\n",
            "Epoch 69/100\n",
            "240/240 [==============================] - 0s 1ms/step - loss: 26.8564\n",
            "Epoch 70/100\n",
            "240/240 [==============================] - 0s 1ms/step - loss: 26.9389\n",
            "Epoch 71/100\n",
            "240/240 [==============================] - 0s 1ms/step - loss: 27.0155\n",
            "Epoch 72/100\n",
            "240/240 [==============================] - 0s 1ms/step - loss: 27.0946\n",
            "Epoch 73/100\n",
            "240/240 [==============================] - 0s 1ms/step - loss: 28.0619\n",
            "Epoch 74/100\n",
            "240/240 [==============================] - 0s 1ms/step - loss: 26.8507\n",
            "Epoch 75/100\n",
            "240/240 [==============================] - 0s 1ms/step - loss: 26.8035\n",
            "Epoch 76/100\n",
            "240/240 [==============================] - 0s 1ms/step - loss: 27.4016\n",
            "Epoch 77/100\n",
            "240/240 [==============================] - 0s 1ms/step - loss: 26.5196\n",
            "Epoch 78/100\n",
            "240/240 [==============================] - 0s 1ms/step - loss: 26.2887\n",
            "Epoch 79/100\n",
            "240/240 [==============================] - 0s 1ms/step - loss: 27.0172\n",
            "Epoch 80/100\n",
            "240/240 [==============================] - 0s 1ms/step - loss: 27.3152\n",
            "Epoch 81/100\n",
            "240/240 [==============================] - 0s 1ms/step - loss: 27.0824\n",
            "Epoch 82/100\n",
            "240/240 [==============================] - 0s 1ms/step - loss: 26.8812\n",
            "Epoch 83/100\n",
            "240/240 [==============================] - 0s 1ms/step - loss: 27.4277\n",
            "Epoch 84/100\n",
            "240/240 [==============================] - 0s 1ms/step - loss: 26.9511\n",
            "Epoch 85/100\n",
            "240/240 [==============================] - 0s 1ms/step - loss: 26.9838\n",
            "Epoch 86/100\n",
            "240/240 [==============================] - 0s 1ms/step - loss: 26.8650\n",
            "Epoch 87/100\n",
            "240/240 [==============================] - 0s 1ms/step - loss: 26.7584\n",
            "Epoch 88/100\n",
            "240/240 [==============================] - 0s 1ms/step - loss: 27.6261\n",
            "Epoch 89/100\n",
            "240/240 [==============================] - 0s 1ms/step - loss: 27.0699\n",
            "Epoch 90/100\n",
            "240/240 [==============================] - 0s 1ms/step - loss: 27.3185\n",
            "Epoch 91/100\n",
            "240/240 [==============================] - 0s 1ms/step - loss: 27.0588\n",
            "Epoch 92/100\n",
            "240/240 [==============================] - 0s 1ms/step - loss: 27.3119\n",
            "Epoch 93/100\n",
            "240/240 [==============================] - 0s 1ms/step - loss: 26.7320\n",
            "Epoch 94/100\n",
            "240/240 [==============================] - 0s 1ms/step - loss: 26.5726\n",
            "Epoch 95/100\n",
            "240/240 [==============================] - 0s 1ms/step - loss: 26.9178\n",
            "Epoch 96/100\n",
            "240/240 [==============================] - 0s 1ms/step - loss: 26.5752\n",
            "Epoch 97/100\n",
            "240/240 [==============================] - 0s 1ms/step - loss: 26.8284\n",
            "Epoch 98/100\n",
            "240/240 [==============================] - 0s 1ms/step - loss: 27.1220\n",
            "Epoch 99/100\n",
            "240/240 [==============================] - 0s 1ms/step - loss: 27.2629\n",
            "Epoch 100/100\n",
            "240/240 [==============================] - 0s 1ms/step - loss: 26.8863\n"
          ],
          "name": "stdout"
        },
        {
          "output_type": "execute_result",
          "data": {
            "text/plain": [
              "<tensorflow.python.keras.callbacks.History at 0x7f53439deb38>"
            ]
          },
          "metadata": {
            "tags": []
          },
          "execution_count": 30
        }
      ]
    },
    {
      "cell_type": "markdown",
      "metadata": {
        "id": "tJj5k2MxZga3",
        "colab_type": "text"
      },
      "source": [
        "## Part 4 - Making the predictions and evaluating the model"
      ]
    },
    {
      "cell_type": "markdown",
      "metadata": {
        "id": "u7yx47jPZt11",
        "colab_type": "text"
      },
      "source": [
        "### Predicting the Test set results"
      ]
    },
    {
      "cell_type": "code",
      "metadata": {
        "id": "PXv4lx8SAmA2",
        "colab_type": "code",
        "outputId": "d04b80f8-ddb7-4da7-a36f-2201d9ea163c",
        "colab": {
          "base_uri": "https://localhost:8080/",
          "height": 134
        }
      },
      "source": [
        "y_pred = ann.predict(X_test)\n",
        "np.set_printoptions(precision=2)\n",
        "print(np.concatenate((y_pred.reshape(len(y_pred),1),y_test.reshape(len(y_test),1)),1))"
      ],
      "execution_count": 0,
      "outputs": [
        {
          "output_type": "stream",
          "text": [
            "[[432.94 431.23]\n",
            " [464.57 460.01]\n",
            " [467.68 461.14]\n",
            " ...\n",
            " [475.38 473.26]\n",
            " [441.37 438.  ]\n",
            " [460.91 463.28]]\n"
          ],
          "name": "stdout"
        }
      ]
    }
  ]
}
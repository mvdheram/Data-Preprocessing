{
  "nbformat": 4,
  "nbformat_minor": 0,
  "metadata": {
    "colab": {
      "name": "convolutional_neural_network.ipynb",
      "provenance": [],
      "collapsed_sections": [],
      "toc_visible": true
    },
    "kernelspec": {
      "display_name": "Python 3",
      "language": "python",
      "name": "python3"
    },
    "language_info": {
      "codemirror_mode": {
        "name": "ipython",
        "version": 3
      },
      "file_extension": ".py",
      "mimetype": "text/x-python",
      "name": "python",
      "nbconvert_exporter": "python",
      "pygments_lexer": "ipython3",
      "version": "3.7.3"
    }
  },
  "cells": [
    {
      "cell_type": "markdown",
      "metadata": {
        "colab_type": "text",
        "id": "3DR-eO17geWu"
      },
      "source": [
        "# Convolutional Neural Network\n",
        "Wu, Jianxin. \"Introduction to convolutional neural networks.\" National Key Lab for Novel Software Technology. Nanjing University. China 5 (2017): 23."
      ]
    },
    {
      "cell_type": "markdown",
      "metadata": {
        "colab_type": "text",
        "id": "EMefrVPCg-60"
      },
      "source": [
        "### Importing the libraries"
      ]
    },
    {
      "cell_type": "code",
      "metadata": {
        "colab_type": "code",
        "id": "sCV30xyVhFbE",
        "colab": {},
        "outputId": "ac75c177-3947-4b26-dde3-70cdf1b7ee99"
      },
      "source": [
        "import tensorflow as tf\n",
        "from keras.preprocessing.image import ImageDataGenerator"
      ],
      "execution_count": 0,
      "outputs": [
        {
          "output_type": "stream",
          "text": [
            "Using TensorFlow backend.\n"
          ],
          "name": "stderr"
        }
      ]
    },
    {
      "cell_type": "code",
      "metadata": {
        "colab_type": "code",
        "id": "FIleuCAjoFD8",
        "colab": {},
        "outputId": "10616167-6602-48f5-b76f-489c2685cd9d"
      },
      "source": [
        "tf.__version__"
      ],
      "execution_count": 0,
      "outputs": [
        {
          "output_type": "execute_result",
          "data": {
            "text/plain": [
              "'2.2.0'"
            ]
          },
          "metadata": {
            "tags": []
          },
          "execution_count": 3
        }
      ]
    },
    {
      "cell_type": "markdown",
      "metadata": {
        "colab_type": "text",
        "id": "oxQxCBWyoGPE"
      },
      "source": [
        "## Part 1 - Data Preprocessing"
      ]
    },
    {
      "cell_type": "markdown",
      "metadata": {
        "id": "Km1lZVTNDH46",
        "colab_type": "text"
      },
      "source": [
        "Image Augmentation : Duplicate images with some kind of variation so the model can learn from more examples - Avoid undersampling of classes. \n",
        "\n",
        "Library - Keras ImageDataGenerator"
      ]
    },
    {
      "cell_type": "markdown",
      "metadata": {
        "colab_type": "text",
        "id": "MvE-heJNo3GG"
      },
      "source": [
        "### Preprocessing the Training set"
      ]
    },
    {
      "cell_type": "code",
      "metadata": {
        "colab_type": "code",
        "id": "0koUcJMJpEBD",
        "colab": {},
        "outputId": "ee069532-9fe7-4db1-8814-9f3191e1cf65"
      },
      "source": [
        "train_datagen = ImageDataGenerator(rescale = 1./255,\n",
        "                                   shear_range = 0.2,\n",
        "                                   zoom_range = 0.2,\n",
        "                                   horizontal_flip = True)\n",
        "training_set = train_datagen.flow_from_directory('dataset/training_set',\n",
        "                                                 target_size = (64, 64),\n",
        "                                                 batch_size = 32,\n",
        "                                                 class_mode = 'binary')"
      ],
      "execution_count": 0,
      "outputs": [
        {
          "output_type": "stream",
          "text": [
            "Found 8000 images belonging to 2 classes.\n"
          ],
          "name": "stdout"
        }
      ]
    },
    {
      "cell_type": "markdown",
      "metadata": {
        "colab_type": "text",
        "id": "mrCMmGw9pHys"
      },
      "source": [
        "### Preprocessing the Test set"
      ]
    },
    {
      "cell_type": "code",
      "metadata": {
        "colab_type": "code",
        "id": "SH4WzfOhpKc3",
        "colab": {},
        "outputId": "8398c687-278f-44d1-8c59-edf20b64a746"
      },
      "source": [
        "test_datagen = ImageDataGenerator(rescale = 1./255)\n",
        "test_set = test_datagen.flow_from_directory('dataset/test_set',\n",
        "                                            target_size = (64, 64),\n",
        "                                            batch_size = 32,\n",
        "                                            class_mode = 'binary')"
      ],
      "execution_count": 0,
      "outputs": [
        {
          "output_type": "stream",
          "text": [
            "Found 2000 images belonging to 2 classes.\n"
          ],
          "name": "stdout"
        }
      ]
    },
    {
      "cell_type": "markdown",
      "metadata": {
        "colab_type": "text",
        "id": "af8O4l90gk7B"
      },
      "source": [
        "## Part 2 - Building the CNN"
      ]
    },
    {
      "cell_type": "markdown",
      "metadata": {
        "colab_type": "text",
        "id": "ces1gXY2lmoX"
      },
      "source": [
        "### Initialising the CNN"
      ]
    },
    {
      "cell_type": "code",
      "metadata": {
        "colab_type": "code",
        "id": "SAUt4UMPlhLS",
        "colab": {}
      },
      "source": [
        "cnn = tf.keras.models.Sequential()"
      ],
      "execution_count": 0,
      "outputs": []
    },
    {
      "cell_type": "markdown",
      "metadata": {
        "colab_type": "text",
        "id": "u5YJj_XMl5LF"
      },
      "source": [
        "### Step 1 - Convolution"
      ]
    },
    {
      "cell_type": "code",
      "metadata": {
        "colab_type": "code",
        "id": "XPzPrMckl-hV",
        "colab": {}
      },
      "source": [
        "cnn.add(tf.keras.layers.Conv2D(filters=32, kernel_size=3, activation='relu', input_shape=[64, 64, 3]))"
      ],
      "execution_count": 0,
      "outputs": []
    },
    {
      "cell_type": "markdown",
      "metadata": {
        "colab_type": "text",
        "id": "tf87FpvxmNOJ"
      },
      "source": [
        "### Step 2 - Pooling"
      ]
    },
    {
      "cell_type": "code",
      "metadata": {
        "colab_type": "code",
        "id": "ncpqPl69mOac",
        "colab": {}
      },
      "source": [
        "cnn.add(tf.keras.layers.MaxPool2D(pool_size=2, strides=2))"
      ],
      "execution_count": 0,
      "outputs": []
    },
    {
      "cell_type": "markdown",
      "metadata": {
        "colab_type": "text",
        "id": "xaTOgD8rm4mU"
      },
      "source": [
        "### Adding a second convolutional layer"
      ]
    },
    {
      "cell_type": "code",
      "metadata": {
        "colab_type": "code",
        "id": "i_-FZjn_m8gk",
        "colab": {}
      },
      "source": [
        "cnn.add(tf.keras.layers.Conv2D(filters=32, kernel_size=3, activation='relu'))\n",
        "cnn.add(tf.keras.layers.MaxPool2D(pool_size=2, strides=2))"
      ],
      "execution_count": 0,
      "outputs": []
    },
    {
      "cell_type": "markdown",
      "metadata": {
        "colab_type": "text",
        "id": "tmiEuvTunKfk"
      },
      "source": [
        "### Step 3 - Flattening"
      ]
    },
    {
      "cell_type": "code",
      "metadata": {
        "colab_type": "code",
        "id": "6AZeOGCvnNZn",
        "colab": {}
      },
      "source": [
        "cnn.add(tf.keras.layers.Flatten())"
      ],
      "execution_count": 0,
      "outputs": []
    },
    {
      "cell_type": "markdown",
      "metadata": {
        "colab_type": "text",
        "id": "dAoSECOm203v"
      },
      "source": [
        "### Step 4 - Full Connection"
      ]
    },
    {
      "cell_type": "code",
      "metadata": {
        "colab_type": "code",
        "id": "8GtmUlLd26Nq",
        "colab": {}
      },
      "source": [
        "cnn.add(tf.keras.layers.Dense(units=128, activation='relu'))"
      ],
      "execution_count": 0,
      "outputs": []
    },
    {
      "cell_type": "markdown",
      "metadata": {
        "colab_type": "text",
        "id": "yTldFvbX28Na"
      },
      "source": [
        "### Step 5 - Output Layer\n",
        "Binary Classification - 'Sigmoid' Activation function \n",
        "\n",
        "Multi- Class - 'SoftMax' Activation function "
      ]
    },
    {
      "cell_type": "code",
      "metadata": {
        "colab_type": "code",
        "id": "1p_Zj1Mc3Ko_",
        "colab": {}
      },
      "source": [
        "cnn.add(tf.keras.layers.Dense(units=1, activation='sigmoid'))"
      ],
      "execution_count": 0,
      "outputs": []
    },
    {
      "cell_type": "markdown",
      "metadata": {
        "colab_type": "text",
        "id": "D6XkI90snSDl"
      },
      "source": [
        "## Part 3 - Training the CNN"
      ]
    },
    {
      "cell_type": "markdown",
      "metadata": {
        "colab_type": "text",
        "id": "vfrFQACEnc6i"
      },
      "source": [
        "### Compiling the CNN"
      ]
    },
    {
      "cell_type": "code",
      "metadata": {
        "colab_type": "code",
        "id": "NALksrNQpUlJ",
        "colab": {}
      },
      "source": [
        "cnn.compile(optimizer = 'adam', loss = 'binary_crossentropy', metrics = ['accuracy'])"
      ],
      "execution_count": 0,
      "outputs": []
    },
    {
      "cell_type": "markdown",
      "metadata": {
        "colab_type": "text",
        "id": "ehS-v3MIpX2h"
      },
      "source": [
        "### Training the CNN on the Training set and evaluating it on the Test set"
      ]
    },
    {
      "cell_type": "code",
      "metadata": {
        "colab_type": "code",
        "id": "XUj1W4PJptta",
        "colab": {},
        "outputId": "3322ba7b-4e26-42ec-900a-7b3d380cbcd7"
      },
      "source": [
        "cnn.fit(x = training_set, validation_data = test_set, epochs = 25)"
      ],
      "execution_count": 0,
      "outputs": [
        {
          "output_type": "stream",
          "text": [
            "Epoch 1/25\n",
            "250/250 [==============================] - 73s 292ms/step - loss: 0.6705 - accuracy: 0.5918 - val_loss: 0.6226 - val_accuracy: 0.6845\n",
            "Epoch 2/25\n",
            "250/250 [==============================] - 77s 307ms/step - loss: 0.6003 - accuracy: 0.6806 - val_loss: 0.6076 - val_accuracy: 0.6800\n",
            "Epoch 3/25\n",
            "250/250 [==============================] - 83s 334ms/step - loss: 0.5592 - accuracy: 0.7128 - val_loss: 0.6559 - val_accuracy: 0.6595\n",
            "Epoch 4/25\n",
            "250/250 [==============================] - 66s 263ms/step - loss: 0.5292 - accuracy: 0.7316 - val_loss: 0.5677 - val_accuracy: 0.7110\n",
            "Epoch 5/25\n",
            "250/250 [==============================] - 61s 243ms/step - loss: 0.5038 - accuracy: 0.7504 - val_loss: 0.4944 - val_accuracy: 0.7670\n",
            "Epoch 6/25\n",
            "250/250 [==============================] - 63s 252ms/step - loss: 0.4805 - accuracy: 0.7716 - val_loss: 0.6291 - val_accuracy: 0.7095\n",
            "Epoch 7/25\n",
            "250/250 [==============================] - 65s 261ms/step - loss: 0.4697 - accuracy: 0.7746 - val_loss: 0.4876 - val_accuracy: 0.7765\n",
            "Epoch 8/25\n",
            "250/250 [==============================] - 68s 271ms/step - loss: 0.4424 - accuracy: 0.7920 - val_loss: 0.5126 - val_accuracy: 0.7705\n",
            "Epoch 9/25\n",
            "250/250 [==============================] - 62s 248ms/step - loss: 0.4321 - accuracy: 0.7958 - val_loss: 0.5130 - val_accuracy: 0.7645\n",
            "Epoch 10/25\n",
            "250/250 [==============================] - 73s 292ms/step - loss: 0.4145 - accuracy: 0.8043 - val_loss: 0.4751 - val_accuracy: 0.7910\n",
            "Epoch 11/25\n",
            "250/250 [==============================] - 73s 293ms/step - loss: 0.4104 - accuracy: 0.8090 - val_loss: 0.4702 - val_accuracy: 0.7840\n",
            "Epoch 12/25\n",
            "250/250 [==============================] - 68s 273ms/step - loss: 0.3898 - accuracy: 0.8179 - val_loss: 0.4857 - val_accuracy: 0.7850\n",
            "Epoch 13/25\n",
            "250/250 [==============================] - 73s 293ms/step - loss: 0.3828 - accuracy: 0.8276 - val_loss: 0.4820 - val_accuracy: 0.7945\n",
            "Epoch 14/25\n",
            "250/250 [==============================] - 71s 286ms/step - loss: 0.3624 - accuracy: 0.8374 - val_loss: 0.4931 - val_accuracy: 0.7810\n",
            "Epoch 15/25\n",
            "250/250 [==============================] - 60s 241ms/step - loss: 0.3618 - accuracy: 0.8386 - val_loss: 0.4782 - val_accuracy: 0.7835\n",
            "Epoch 16/25\n",
            "250/250 [==============================] - 62s 246ms/step - loss: 0.3382 - accuracy: 0.8504 - val_loss: 0.5551 - val_accuracy: 0.7725\n",
            "Epoch 17/25\n",
            "250/250 [==============================] - 68s 270ms/step - loss: 0.3383 - accuracy: 0.8455 - val_loss: 0.5271 - val_accuracy: 0.7875\n",
            "Epoch 18/25\n",
            "250/250 [==============================] - 61s 244ms/step - loss: 0.3193 - accuracy: 0.8656 - val_loss: 0.5057 - val_accuracy: 0.8055\n",
            "Epoch 19/25\n",
            "250/250 [==============================] - 67s 269ms/step - loss: 0.3116 - accuracy: 0.8601 - val_loss: 0.5053 - val_accuracy: 0.7950\n",
            "Epoch 20/25\n",
            "250/250 [==============================] - 73s 293ms/step - loss: 0.2910 - accuracy: 0.8791 - val_loss: 0.5909 - val_accuracy: 0.7825\n",
            "Epoch 21/25\n",
            "250/250 [==============================] - 61s 243ms/step - loss: 0.2839 - accuracy: 0.8765 - val_loss: 0.5537 - val_accuracy: 0.8035\n",
            "Epoch 22/25\n",
            "250/250 [==============================] - 62s 246ms/step - loss: 0.2750 - accuracy: 0.8823 - val_loss: 0.4997 - val_accuracy: 0.7995\n",
            "Epoch 23/25\n",
            "250/250 [==============================] - 61s 245ms/step - loss: 0.2682 - accuracy: 0.8846 - val_loss: 0.5083 - val_accuracy: 0.8070\n",
            "Epoch 24/25\n",
            "250/250 [==============================] - 61s 244ms/step - loss: 0.2456 - accuracy: 0.8990 - val_loss: 0.5510 - val_accuracy: 0.7930\n",
            "Epoch 25/25\n",
            "250/250 [==============================] - 63s 253ms/step - loss: 0.2366 - accuracy: 0.9029 - val_loss: 0.5537 - val_accuracy: 0.7940\n"
          ],
          "name": "stdout"
        },
        {
          "output_type": "execute_result",
          "data": {
            "text/plain": [
              "<tensorflow.python.keras.callbacks.History at 0x212ca880780>"
            ]
          },
          "metadata": {
            "tags": []
          },
          "execution_count": 14
        }
      ]
    },
    {
      "cell_type": "markdown",
      "metadata": {
        "colab_type": "text",
        "id": "U3PZasO0006Z"
      },
      "source": [
        "## Part 4 - Making a single prediction"
      ]
    },
    {
      "cell_type": "code",
      "metadata": {
        "colab_type": "code",
        "id": "gsSiWEJY1BPB",
        "colab": {}
      },
      "source": [
        "import numpy as np\n",
        "from keras.preprocessing import image\n",
        "test_image = image.load_img('dataset/single_prediction/cat_or_dog_1.jpg', target_size = (64, 64))\n",
        "test_image = image.img_to_array(test_image)\n",
        "test_image = np.expand_dims(test_image, axis = 0)\n",
        "result = cnn.predict(test_image)\n",
        "training_set.class_indices\n",
        "if result[0][0] == 1:\n",
        "  prediction = 'dog'\n",
        "else:\n",
        "  prediction = 'cat'"
      ],
      "execution_count": 0,
      "outputs": []
    },
    {
      "cell_type": "code",
      "metadata": {
        "colab_type": "code",
        "id": "ED9KB3I54c1i",
        "colab": {},
        "outputId": "6a6b2916-f667-46e3-e53e-32a36ca76ec6"
      },
      "source": [
        "print(prediction)"
      ],
      "execution_count": 0,
      "outputs": [
        {
          "output_type": "stream",
          "text": [
            "dog\n"
          ],
          "name": "stdout"
        }
      ]
    },
    {
      "cell_type": "code",
      "metadata": {
        "id": "RQWfZGIADH6l",
        "colab_type": "code",
        "colab": {}
      },
      "source": [
        ""
      ],
      "execution_count": 0,
      "outputs": []
    }
  ]
}